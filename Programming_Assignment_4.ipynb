{
  "nbformat": 4,
  "nbformat_minor": 0,
  "metadata": {
    "colab": {
      "name": "Programming_Assignment_4.ipynb",
      "provenance": [],
      "collapsed_sections": []
    },
    "kernelspec": {
      "name": "python3",
      "display_name": "Python 3"
    },
    "language_info": {
      "name": "python"
    }
  },
  "cells": [
    {
      "cell_type": "code",
      "execution_count": null,
      "metadata": {
        "id": "do1dV1rBeoJf"
      },
      "outputs": [],
      "source": [
        "# 1. Write a Python Program to Find the Factorial of a Number?"
      ]
    },
    {
      "cell_type": "code",
      "source": [
        "fact = 1\n",
        "num = int(input(\"Number: \"))\n",
        "\n",
        "for i in range(1,num + 1):\n",
        "  fact = fact * i\n",
        "print(\"Factorial of number:\",fact)"
      ],
      "metadata": {
        "colab": {
          "base_uri": "https://localhost:8080/"
        },
        "id": "JMtQcxKIewSE",
        "outputId": "f0c0e604-3092-476d-d026-a3e8a395c07c"
      },
      "execution_count": null,
      "outputs": [
        {
          "output_type": "stream",
          "name": "stdout",
          "text": [
            "Number: 5\n",
            "Factorial of number: 120\n"
          ]
        }
      ]
    },
    {
      "cell_type": "code",
      "source": [
        "# 2. Write a Python Program to Display the multiplication Table?"
      ],
      "metadata": {
        "id": "yeLELzu5g7xv"
      },
      "execution_count": null,
      "outputs": []
    },
    {
      "cell_type": "code",
      "source": [
        "n = int(input(\"\"))\n",
        "for i in range(1,11):\n",
        "  print(n,\"*\",i,\":\",n * i)"
      ],
      "metadata": {
        "colab": {
          "base_uri": "https://localhost:8080/"
        },
        "id": "2hVD4di1jPX8",
        "outputId": "6c20f2e3-4d52-42fa-84da-8d092a65b0bc"
      },
      "execution_count": null,
      "outputs": [
        {
          "output_type": "stream",
          "name": "stdout",
          "text": [
            "6\n",
            "6 * 1 : 6\n",
            "6 * 2 : 12\n",
            "6 * 3 : 18\n",
            "6 * 4 : 24\n",
            "6 * 5 : 30\n",
            "6 * 6 : 36\n",
            "6 * 7 : 42\n",
            "6 * 8 : 48\n",
            "6 * 9 : 54\n",
            "6 * 10 : 60\n"
          ]
        }
      ]
    },
    {
      "cell_type": "code",
      "source": [
        "# 3. Write a Python Program to Print the Fibonacci sequence?"
      ],
      "metadata": {
        "id": "gYHB2tNKwJZ5"
      },
      "execution_count": null,
      "outputs": []
    },
    {
      "cell_type": "code",
      "source": [
        "no = int(input(\"\"))\n",
        "a = 0\n",
        "b = 1\n",
        "print(\"Fiboncci sequence of number:\")\n",
        "print(\"\\n\",a,\"\\n\",b,)\n",
        "\n",
        "for i in range(2,no):\n",
        "  c = a + b\n",
        "  print(\"\",c)\n",
        "  a = b\n",
        "  b = c\n",
        "\n",
        "\n"
      ],
      "metadata": {
        "colab": {
          "base_uri": "https://localhost:8080/"
        },
        "id": "OAeeBKYNq4ud",
        "outputId": "0452fde7-1302-42c5-d452-3f86b15e4e78"
      },
      "execution_count": null,
      "outputs": [
        {
          "output_type": "stream",
          "name": "stdout",
          "text": [
            "8\n",
            "Fiboncci sequence of number:\n",
            "\n",
            " 0 \n",
            " 1\n",
            " 1\n",
            " 2\n",
            " 3\n",
            " 5\n",
            " 8\n",
            " 13\n"
          ]
        }
      ]
    },
    {
      "cell_type": "code",
      "source": [
        "# 4. Write a Python Program to Check Armstrong Number?"
      ],
      "metadata": {
        "id": "MEcDVKnc_cr1"
      },
      "execution_count": null,
      "outputs": []
    },
    {
      "cell_type": "code",
      "source": [
        "n = int(input(\" Number: \"))\n",
        "add = 0\n",
        "\n",
        "temp = n\n",
        "while temp > 0:\n",
        "  num = temp % 10\n",
        "  add += num ** 3\n",
        "  temp //= 10\n",
        "\n",
        "if n == add:\n",
        "  print(\"\\n\",n,\"is Armstrong Number\")\n",
        "\n",
        "else:\n",
        "  print(n,\"Not Armstrong Number\")\n"
      ],
      "metadata": {
        "colab": {
          "base_uri": "https://localhost:8080/"
        },
        "id": "pl3rwV7U_fni",
        "outputId": "ce8bda9c-6195-4f2f-ec61-e0ca4ae2d42b"
      },
      "execution_count": null,
      "outputs": [
        {
          "output_type": "stream",
          "name": "stdout",
          "text": [
            " Number: 371\n",
            "\n",
            " 371 is Armstrong Number\n"
          ]
        }
      ]
    },
    {
      "cell_type": "code",
      "source": [
        "# 5. Write a Python Program to Find Armstrong Number in an Interval?"
      ],
      "metadata": {
        "id": "CpDJ9nZwCrOq"
      },
      "execution_count": null,
      "outputs": []
    },
    {
      "cell_type": "code",
      "source": [
        "low = 100\n",
        "upp = 2000\n",
        "\n",
        "for n in range(low, upp + 1):\n",
        "  order = len(str(n))\n",
        "  add = 0\n",
        "  temp = n\n",
        "  while temp > 0:\n",
        "    num = temp % 10\n",
        "    add += num ** order\n",
        "    temp //= 10\n",
        "\n",
        "  if n == add:\n",
        "    print(n)\n",
        "  \n",
        "     "
      ],
      "metadata": {
        "colab": {
          "base_uri": "https://localhost:8080/"
        },
        "id": "Hu0MDy0NCxTD",
        "outputId": "04e1378a-fc3d-41a2-ec5f-eff6b148077e"
      },
      "execution_count": null,
      "outputs": [
        {
          "output_type": "stream",
          "name": "stdout",
          "text": [
            "153\n",
            "370\n",
            "371\n",
            "407\n",
            "1634\n"
          ]
        }
      ]
    },
    {
      "cell_type": "code",
      "source": [
        "# 6. Write a Python Program to Find the Sum of Natural Numbers?"
      ],
      "metadata": {
        "id": "toJ1X0ksF_vh"
      },
      "execution_count": null,
      "outputs": []
    },
    {
      "cell_type": "code",
      "source": [
        "n = int(input(\"\"))\n",
        "\n",
        "if n < 0:\n",
        "  print(\"Number\")\n",
        "\n",
        "else:\n",
        "  add = 0\n",
        "  while(n > 0):\n",
        "    add += n\n",
        "    n -= 1\n",
        "  print(\"Sum :\",add)\n"
      ],
      "metadata": {
        "colab": {
          "base_uri": "https://localhost:8080/"
        },
        "id": "Vq1xCYiBHVSO",
        "outputId": "6e0a050f-5de3-4d75-e56c-e35fb6773b14"
      },
      "execution_count": null,
      "outputs": [
        {
          "output_type": "stream",
          "name": "stdout",
          "text": [
            "77\n",
            "Sum : 3003\n"
          ]
        }
      ]
    }
  ]
}
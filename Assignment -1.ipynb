{
 "cells": [
  {
   "cell_type": "code",
   "execution_count": 1,
   "id": "a1bc2cbf",
   "metadata": {},
   "outputs": [
    {
     "data": {
      "text/plain": [
       "'1. In the below elements which of them are values or an expression? eg:- values can be\\ninteger or string and expressions will be mathematical operators.\\n'"
      ]
     },
     "execution_count": 1,
     "metadata": {},
     "output_type": "execute_result"
    }
   ],
   "source": [
    "'''1. In the below elements which of them are values or an expression? eg:- values can be\n",
    "integer or string and expressions will be mathematical operators.\n",
    "'''"
   ]
  },
  {
   "cell_type": "code",
   "execution_count": 3,
   "id": "84af51b5",
   "metadata": {},
   "outputs": [
    {
     "data": {
      "text/plain": [
       "\"\\n'hello' - values\\n-87.8 - values\\n-  - expression\\n/  - expression\\n+  - expression\\n6  - values\\n\""
      ]
     },
     "execution_count": 3,
     "metadata": {},
     "output_type": "execute_result"
    }
   ],
   "source": [
    "\"\"\"\n",
    "'hello' - values\n",
    "-87.8 - values\n",
    "-  - expression\n",
    "/  - expression\n",
    "+  - expression\n",
    "6  - values\n",
    "\"\"\""
   ]
  },
  {
   "cell_type": "code",
   "execution_count": 4,
   "id": "b6dd1557",
   "metadata": {},
   "outputs": [],
   "source": [
    "#2. What is the difference between string and variable?\n",
    "\n",
    "# - > A variable stores the Information . String is a type of Information that is stored in variable."
   ]
  },
  {
   "cell_type": "code",
   "execution_count": 5,
   "id": "e1387938",
   "metadata": {},
   "outputs": [],
   "source": [
    "# 3. Describe three different data types.\n",
    "\n",
    "# - > int , string , float"
   ]
  },
  {
   "cell_type": "code",
   "execution_count": 6,
   "id": "79eb63ae",
   "metadata": {},
   "outputs": [],
   "source": [
    "#4. What is an expression made up of? What do all expressions do?\n",
    "\n",
    "# - > expressions are made up of mathematical operators(+,-,/,*) and they perform mathematical operations"
   ]
  },
  {
   "cell_type": "code",
   "execution_count": 7,
   "id": "e3927753",
   "metadata": {},
   "outputs": [],
   "source": [
    "# 5. This assignment statements, like spam = 10. What is the difference between an\n",
    "#expression and a statement?\n",
    "\n",
    "# - > An expression is something that can be reduced to a value. For e.g , a=2+3\n",
    "#Instructions that a Python interpreter can execute are called statements. For example, a = 1"
   ]
  },
  {
   "cell_type": "code",
   "execution_count": 8,
   "id": "a8149bb7",
   "metadata": {},
   "outputs": [
    {
     "data": {
      "text/plain": [
       "23"
      ]
     },
     "execution_count": 8,
     "metadata": {},
     "output_type": "execute_result"
    }
   ],
   "source": [
    "#6. After running the following code, what does the variable bacon contain?\n",
    "bacon = 22\n",
    "bacon + 1"
   ]
  },
  {
   "cell_type": "code",
   "execution_count": 9,
   "id": "32be08fc",
   "metadata": {},
   "outputs": [
    {
     "data": {
      "text/plain": [
       "'spamspamspam'"
      ]
     },
     "execution_count": 9,
     "metadata": {},
     "output_type": "execute_result"
    }
   ],
   "source": [
    "#7. What should the values of the following two terms be?\n",
    "'spam'+'spamspam'"
   ]
  },
  {
   "cell_type": "code",
   "execution_count": 10,
   "id": "1c487996",
   "metadata": {},
   "outputs": [
    {
     "data": {
      "text/plain": [
       "'spamspamspam'"
      ]
     },
     "execution_count": 10,
     "metadata": {},
     "output_type": "execute_result"
    }
   ],
   "source": [
    "'spam'*3"
   ]
  },
  {
   "cell_type": "code",
   "execution_count": 11,
   "id": "d916cede",
   "metadata": {},
   "outputs": [],
   "source": [
    "#8. Why is eggs a valid variable name while 100 is invalid? \n",
    "\n",
    "# - > variable name can have alphabets but cannot start with a number"
   ]
  },
  {
   "cell_type": "code",
   "execution_count": 12,
   "id": "7ee1f214",
   "metadata": {},
   "outputs": [],
   "source": [
    "#9. What three functions can be used to get the integer, floating-point number, or string version of a value?\n",
    "\n",
    "#-- > int(),float(),str()"
   ]
  },
  {
   "cell_type": "code",
   "execution_count": 13,
   "id": "022fb513",
   "metadata": {},
   "outputs": [
    {
     "data": {
      "text/plain": [
       "'I have eaten99burritos'"
      ]
     },
     "execution_count": 13,
     "metadata": {},
     "output_type": "execute_result"
    }
   ],
   "source": [
    "#10. Why does this expression cause an error? How can you fix it?\n",
    "\n",
    "#- 'I have eaten' + 99 + 'burritos' - because we can only concatenate similar data types variable.99 is integer\n",
    "\n",
    "'I have eaten' + '99' + 'burritos'\n"
   ]
  },
  {
   "cell_type": "code",
   "execution_count": null,
   "id": "2a195096",
   "metadata": {},
   "outputs": [],
   "source": []
  }
 ],
 "metadata": {
  "kernelspec": {
   "display_name": "Python 3 (ipykernel)",
   "language": "python",
   "name": "python3"
  },
  "language_info": {
   "codemirror_mode": {
    "name": "ipython",
    "version": 3
   },
   "file_extension": ".py",
   "mimetype": "text/x-python",
   "name": "python",
   "nbconvert_exporter": "python",
   "pygments_lexer": "ipython3",
   "version": "3.9.12"
  }
 },
 "nbformat": 4,
 "nbformat_minor": 5
}

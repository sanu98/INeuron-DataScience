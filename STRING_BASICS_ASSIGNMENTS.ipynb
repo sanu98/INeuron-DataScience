{
 "cells": [
  {
   "cell_type": "code",
   "execution_count": 2,
   "id": "815eca9f",
   "metadata": {},
   "outputs": [],
   "source": [
    "s = \"this is My First Python programming class and i am learNING python string and its function\""
   ]
  },
  {
   "cell_type": "code",
   "execution_count": 7,
   "id": "f21bfd1b",
   "metadata": {},
   "outputs": [
    {
     "data": {
      "text/plain": [
       "'h   r tnrrmglsnimeNGyosi dtfco'"
      ]
     },
     "execution_count": 7,
     "metadata": {},
     "output_type": "execute_result"
    }
   ],
   "source": [
    "#1 . Try to extract data from index one to index 300 with a jump of 3 \n",
    "s[1:300:3]"
   ]
  },
  {
   "cell_type": "code",
   "execution_count": 8,
   "id": "fd829af0",
   "metadata": {},
   "outputs": [
    {
     "data": {
      "text/plain": [
       "'noitcnuf sti dna gnirts nohtyp GNINrael ma i dna ssalc gnimmargorp nohtyP tsriF yM si siht'"
      ]
     },
     "execution_count": 8,
     "metadata": {},
     "output_type": "execute_result"
    }
   ],
   "source": [
    "#2. Try to reverse a string without using reverse function \n",
    "s[::-1]"
   ]
  },
  {
   "cell_type": "code",
   "execution_count": 9,
   "id": "5c5c2f56",
   "metadata": {},
   "outputs": [
    {
     "data": {
      "text/plain": [
       "['THIS',\n",
       " 'IS',\n",
       " 'MY',\n",
       " 'FIRST',\n",
       " 'PYTHON',\n",
       " 'PROGRAMMING',\n",
       " 'CLASS',\n",
       " 'AND',\n",
       " 'I',\n",
       " 'AM',\n",
       " 'LEARNING',\n",
       " 'PYTHON',\n",
       " 'STRING',\n",
       " 'AND',\n",
       " 'ITS',\n",
       " 'FUNCTION']"
      ]
     },
     "execution_count": 9,
     "metadata": {},
     "output_type": "execute_result"
    }
   ],
   "source": [
    "#3. Try to split a string after conversion of entire string in uppercase \n",
    "s.upper().split()"
   ]
  },
  {
   "cell_type": "code",
   "execution_count": 10,
   "id": "792da5f7",
   "metadata": {},
   "outputs": [
    {
     "data": {
      "text/plain": [
       "'this is my first python programming class and i am learning python string and its function'"
      ]
     },
     "execution_count": 10,
     "metadata": {},
     "output_type": "execute_result"
    }
   ],
   "source": [
    "#4. try to convert the whole string into lower case \n",
    "s.lower()"
   ]
  },
  {
   "cell_type": "code",
   "execution_count": 11,
   "id": "42cbec25",
   "metadata": {},
   "outputs": [
    {
     "data": {
      "text/plain": [
       "'This is my first python programming class and i am learning python string and its function'"
      ]
     },
     "execution_count": 11,
     "metadata": {},
     "output_type": "execute_result"
    }
   ],
   "source": [
    "#5 . Try to capitalize the whole string \n",
    "s.capitalize()"
   ]
  },
  {
   "cell_type": "code",
   "execution_count": 12,
   "id": "b0516b75",
   "metadata": {},
   "outputs": [
    {
     "data": {
      "text/plain": [
       "'\\nisalnum() returns true if string contains an alphabet or a number else false\\nisalpha() returns true if string contains alphabet else false\\n\\n\\n'"
      ]
     },
     "execution_count": 12,
     "metadata": {},
     "output_type": "execute_result"
    }
   ],
   "source": [
    "#6 . Write a diference between isalnum() and isalpha()\n",
    "'''\n",
    "isalnum() returns true if string contains an alphabet or a number else false\n",
    "isalpha() returns true if string contains alphabet else false\n",
    "\n",
    "\n",
    "'''\n"
   ]
  },
  {
   "cell_type": "code",
   "execution_count": 14,
   "id": "2f3e9c23",
   "metadata": {},
   "outputs": [
    {
     "data": {
      "text/plain": [
       "'this    is      python  class'"
      ]
     },
     "execution_count": 14,
     "metadata": {},
     "output_type": "execute_result"
    }
   ],
   "source": [
    "#7. Try to give an example of expand tab\n",
    "\n",
    "s='this\\tis\\tpython\\tclass'\n",
    "s.expandtabs()"
   ]
  },
  {
   "cell_type": "code",
   "execution_count": 18,
   "id": "3c81e261",
   "metadata": {},
   "outputs": [
    {
     "name": "stdout",
     "output_type": "stream",
     "text": [
      "this is python class\n",
      "this is python class    \n",
      "    this is python class\n"
     ]
    }
   ],
   "source": [
    "#8 . Give an example of strip , lstrip and rstrip \n",
    "\n",
    "s='    this is python class    '\n",
    "print(s.strip())\n",
    "print(s.lstrip())\n",
    "print(s.rstrip())"
   ]
  },
  {
   "cell_type": "code",
   "execution_count": 19,
   "id": "492cf249",
   "metadata": {},
   "outputs": [
    {
     "data": {
      "text/plain": [
       "'mudhanmhu'"
      ]
     },
     "execution_count": 19,
     "metadata": {},
     "output_type": "execute_result"
    }
   ],
   "source": [
    "#9.  Replace a string charecter by another charector by taking your own example \n",
    "s=\"sudhanshu\"\n",
    "s.replace(\"s\",\"m\")"
   ]
  },
  {
   "cell_type": "code",
   "execution_count": 27,
   "id": "0b6f46cc",
   "metadata": {},
   "outputs": [
    {
     "data": {
      "text/plain": [
       "'@@@sudhanshu@@@'"
      ]
     },
     "execution_count": 27,
     "metadata": {},
     "output_type": "execute_result"
    }
   ],
   "source": [
    "#10 . Try  to give a defination of string center function with and exmple \n",
    "s=\"sudhanshu\"\n",
    "s.center(15,'@')"
   ]
  },
  {
   "cell_type": "code",
   "execution_count": 28,
   "id": "035bcd06",
   "metadata": {},
   "outputs": [],
   "source": [
    "# 11 Write your own definition of compiler and interpretor without copy paste form internet in your own language\n",
    "\n",
    "# A Compiler takes a program as a whole. An Interpreter takes single lines of a code."
   ]
  },
  {
   "cell_type": "code",
   "execution_count": 29,
   "id": "9dd2d85e",
   "metadata": {},
   "outputs": [],
   "source": [
    "#12 . Python is a interpreted or compiled language give a clear ans with your understanding \n",
    "'''\n",
    "\n",
    "Python is an interpreted language and not a compiled one, although compilation is a step. Python code, written \n",
    "in .py file is first compiled to what is called bytecode (discussed in detail further) \n",
    "which is stored with a .pyc or .pyo format.\n",
    "Instead of translating source code to machine code like C++, \n",
    "Python code it translated to bytecode. This bytecode is a low-level set of instructions that can be \n",
    "executed by an interpreter.\n",
    "\n",
    "'''\n"
   ]
  },
  {
   "cell_type": "code",
   "execution_count": 1,
   "id": "e324cfd7",
   "metadata": {},
   "outputs": [],
   "source": [
    "#13 . Try to write a usecase of python with your understanding .\n",
    "\n",
    "# - Data Science , AI applications, Web application ,Game development"
   ]
  },
  {
   "cell_type": "code",
   "execution_count": null,
   "id": "b47bb090",
   "metadata": {},
   "outputs": [],
   "source": []
  },
  {
   "cell_type": "code",
   "execution_count": null,
   "id": "37ef0967",
   "metadata": {},
   "outputs": [],
   "source": []
  },
  {
   "cell_type": "code",
   "execution_count": null,
   "id": "93a4bee3",
   "metadata": {},
   "outputs": [],
   "source": []
  },
  {
   "cell_type": "code",
   "execution_count": null,
   "id": "8257278f",
   "metadata": {},
   "outputs": [],
   "source": []
  },
  {
   "cell_type": "code",
   "execution_count": null,
   "id": "39693690",
   "metadata": {},
   "outputs": [],
   "source": []
  },
  {
   "cell_type": "code",
   "execution_count": 26,
   "id": "20b0ebdf",
   "metadata": {},
   "outputs": [],
   "source": []
  },
  {
   "cell_type": "code",
   "execution_count": null,
   "id": "be21edb3",
   "metadata": {},
   "outputs": [],
   "source": []
  },
  {
   "cell_type": "code",
   "execution_count": null,
   "id": "c56a20a6",
   "metadata": {},
   "outputs": [],
   "source": []
  },
  {
   "cell_type": "code",
   "execution_count": null,
   "id": "a287064c",
   "metadata": {},
   "outputs": [],
   "source": []
  },
  {
   "cell_type": "code",
   "execution_count": null,
   "id": "d8147abb",
   "metadata": {},
   "outputs": [],
   "source": []
  },
  {
   "cell_type": "code",
   "execution_count": null,
   "id": "abd764b9",
   "metadata": {},
   "outputs": [],
   "source": []
  },
  {
   "cell_type": "code",
   "execution_count": null,
   "id": "7731d32a",
   "metadata": {},
   "outputs": [],
   "source": []
  },
  {
   "cell_type": "code",
   "execution_count": null,
   "id": "4420fc16",
   "metadata": {},
   "outputs": [],
   "source": []
  },
  {
   "cell_type": "code",
   "execution_count": null,
   "id": "1cf4bb36",
   "metadata": {},
   "outputs": [],
   "source": []
  },
  {
   "cell_type": "code",
   "execution_count": null,
   "id": "cda0f7e4",
   "metadata": {},
   "outputs": [],
   "source": []
  },
  {
   "cell_type": "code",
   "execution_count": null,
   "id": "37a4698d",
   "metadata": {},
   "outputs": [],
   "source": []
  }
 ],
 "metadata": {
  "kernelspec": {
   "display_name": "Python 3 (ipykernel)",
   "language": "python",
   "name": "python3"
  },
  "language_info": {
   "codemirror_mode": {
    "name": "ipython",
    "version": 3
   },
   "file_extension": ".py",
   "mimetype": "text/x-python",
   "name": "python",
   "nbconvert_exporter": "python",
   "pygments_lexer": "ipython3",
   "version": "3.9.12"
  }
 },
 "nbformat": 4,
 "nbformat_minor": 5
}
